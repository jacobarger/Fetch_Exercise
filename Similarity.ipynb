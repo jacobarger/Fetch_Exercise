{
  "nbformat": 4,
  "nbformat_minor": 0,
  "metadata": {
    "colab": {
      "name": "Similarity.ipynb",
      "provenance": [],
      "authorship_tag": "ABX9TyNXShfVF+2zXI8rLZARKi/w",
      "include_colab_link": true
    },
    "kernelspec": {
      "name": "python3",
      "display_name": "Python 3"
    },
    "language_info": {
      "name": "python"
    }
  },
  "cells": [
    {
      "cell_type": "markdown",
      "metadata": {
        "id": "view-in-github",
        "colab_type": "text"
      },
      "source": [
        "<a href=\"https://colab.research.google.com/github/jacobarger/Fetch_Exercise/blob/main/Similarity.ipynb\" target=\"_parent\"><img src=\"https://colab.research.google.com/assets/colab-badge.svg\" alt=\"Open In Colab\"/></a>"
      ]
    },
    {
      "cell_type": "code",
      "metadata": {
        "colab": {
          "base_uri": "https://localhost:8080/",
          "height": 380
        },
        "id": "VAuJS_Z_LPnI",
        "outputId": "0645af8e-4b7d-4d5f-a3ae-a0c53956b6af"
      },
      "source": [
        "# Written by Jacob Barger 5/17/21\n",
        "# String Similarity Exercise for Fetch Rewards \n",
        "\n",
        "import numpy as np\n",
        "import string\n",
        "import re\n",
        "import matplotlib.pyplot as plt\n",
        "\n",
        "class Similarity:\n",
        "\n",
        "  # initialize empty strings to hold each of the pieces of input text\n",
        "  input_string1 = \"\"\n",
        "  input_string2 = \"\"\n",
        "\n",
        "  # constructor to take in and initalize input text as class varibales\n",
        "  def __init__(self, string_1, string_2):\n",
        "    self.input_string1 = string_1\n",
        "    self.input_string2 = string_2\n",
        "    self.pairs1 = \"\"\n",
        "    self.pairs2 = \"\"\n",
        "\n",
        "    # simple edge case testing to rule out empty strings\n",
        "    if self.input_string1 == \"\" or self.input_string2 == \"\":\n",
        "      print(\"ERROR: Empty input detected, exiting.\")\n",
        "      exit()\n",
        "    \n",
        "    # regex = re.compile('[^a-zA-Z]')\n",
        "    # #First parameter is the replacement, second parameter is your input string\n",
        "    # self.input_string1 = regex.sub('', self.input_string1)\n",
        "    # self.input_string2 = regex.sub('', self.input_string2)\n",
        "  \n",
        "  # In this function, we are going to take somwhat of an interesting approach to analyze the \n",
        "  # similarity visually. To do this we will convert the to strings into 2D arrays\n",
        "  # with the index / character position as the first column, and the ascii value of\n",
        "  # the character as the second column \n",
        "  def get_pairs(self):\n",
        "    # initialize array of zeroes with size equal to string length\n",
        "    # as place holders for later operations\n",
        "    coord_set_1 = np.zeros((len(self.input_string1), 2))\n",
        "    coord_set_2 = np.zeros((len(self.input_string2), 2))\n",
        "\n",
        "    # iterate over each character in the strings, and set the first column\n",
        "    # equal to the index for simple graphical processing, and the second column \n",
        "    # equal to the ascii value of the associated character \n",
        "    for i in range(0, len(self.input_string1)):\n",
        "      coord_set_1[i][0] = i\n",
        "      coord_set_1[i][1] = ord(self.input_string1[i])\n",
        "    for i in range(0, len(self.input_string2)):\n",
        "      coord_set_2[i][0] = i\n",
        "      coord_set_2[i][1] = ord(self.input_string2[i])\n",
        "    \n",
        "\n",
        "    # scale ascii values to be between zero and one for a nicer scaled visual representation\n",
        "    coord_set_1[:, 1] = 1.0 / coord_set_1[:, 1] \n",
        "    coord_set_2[:, 1] = 1.0 / coord_set_2[:, 1] \n",
        "\n",
        "    # 'return' results as class variables\n",
        "    self.pairs1 = coord_set_1\n",
        "    self.pairs2 = coord_set_2\n",
        "\n",
        "  # function to generate a plot for a visual representation\n",
        "  # of similarity between the two pieces of text w\n",
        "  def plot(self):\n",
        "    # plot string 1 with o as marker\n",
        "    plt.plot(self.pairs1[:, 0], self.pairs1[:, 1], marker='o')\n",
        "    # plot string 2 with * as marker\n",
        "    plt.plot(self.pairs2[:, 0], self.pairs2[:, 1], marker='*')\n",
        "\n",
        "    # set title(s)\n",
        "    plt.title(\"Visual Representation of Text Similarity\")\n",
        "    plt.xlabel(\"Scaled input text values\")\n",
        "    plt.ylabel(\"Character Position in the text\")\n",
        "    \n",
        "\n",
        "    # set y limit to zoom in on curve adjusted for punctuation if you wish (comment / uncomment)\n",
        "    # plt.ylim(0, 0.013)\n",
        "    plt.xlim(0,25)\n",
        "    plt.show()\n",
        "\n",
        "\n",
        "  # function to calculate the similarity of the two arrays \n",
        "\n",
        "  def calculate_similarity(self):\n",
        "    # grab the converted ascii values from the pairs extracted earlier, set names as a and b\n",
        "    # for easy typability\n",
        "    a = self.pairs1[:, 1]\n",
        "    b = self.pairs2[:, 1]\n",
        "\n",
        "    # calculate the average value for that string\n",
        "    a_avg = int(np.average(a))\n",
        "    b_avg = int(np.average(b))\n",
        "\n",
        "    # if the two input texts are not the same length, pad the input strings with average value of \n",
        "    # that piece of input text\n",
        "    if len(a) < len(b):\n",
        "      diff = len(b) - len(a)\n",
        "      c = np.ones(diff) * a_avg\n",
        "      a = np.append(a,c)\n",
        "    elif len(b) < len(a):\n",
        "      diff = len(a) - len(b)\n",
        "      c = np.ones(diff) * b_avg\n",
        "      b = np.append(b,c)\n",
        "    \n",
        "    # now that the arrays have been set to the same length,\n",
        "    # we can run a cosine similarity check on the floating point\n",
        "    # arrays \n",
        "\n",
        "    cosine_similarity = np.dot(a, b) / (np.linalg.norm(a) * np.linalg.norm(b))\n",
        "    print(\"Estimated simialrity score using cosine similarity: \", cosine_similarity)\n",
        "\n",
        "\n",
        "\n",
        "################## MAIN SCRIPT / METHOD ################\n",
        "# Get input text\n",
        "print(\"Please enter the first piece of text (press enter when your input is complete): \")\n",
        "string1 = input()\n",
        "print(\"Please enter the second piece of text (press enter when your input is complete): \")\n",
        "string2 = input()\n",
        "\n",
        "# Setup Post Request\n",
        "# define api endpoint \n",
        "endpoint = \"http://somesite.com/API\"\n",
        "# setup payload\n",
        "payload = {'api_string_1' : string1,\n",
        "        'api_string_2': string2}  \n",
        "# shoot post request\n",
        "request_obj = requests.post(url = endpoint, data = payload)\n",
        "simialrity_score = request_obj.text\n",
        "#print(\"The similarity score is\", similarity_score)\n",
        "\n",
        "# call all the class functions to process the strings \n",
        "Similarity_checker = Similarity(string1, string2)\n",
        "Similarity_checker.get_pairs()\n",
        "Similarity_checker.plot()\n",
        "Similarity_checker.calculate_similarity()\n"
      ],
      "execution_count": 121,
      "outputs": [
        {
          "output_type": "stream",
          "text": [
            "Please enter the first piece of text: \n",
            "asdfdf\n",
            "Please enter the second piece of text: \n",
            "asdfsdfa\n"
          ],
          "name": "stdout"
        },
        {
          "output_type": "display_data",
          "data": {
            "image/png": "[encoded data removed]",
            "text/plain": [
              "<Figure size 432x288 with 1 Axes>"
            ]
          },
          "metadata": {
            "tags": [],
            "needs_background": "light"
          }
        },
        {
          "output_type": "stream",
          "text": [
            "Estimated simialrity score using cosine similarity:  0.8545584874065462\n"
          ],
          "name": "stdout"
        }
      ]
    },
    {
      "cell_type": "code",
      "metadata": {
        "id": "H9SZjbldb-3A"
      },
      "source": [
        ""
      ],
      "execution_count": null,
      "outputs": []
    }
  ]
}